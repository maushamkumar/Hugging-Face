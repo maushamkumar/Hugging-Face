{
  "nbformat": 4,
  "nbformat_minor": 0,
  "metadata": {
    "colab": {
      "provenance": [],
      "authorship_tag": "ABX9TyNn7c+4tcBzYkTZ/SWR2iZv",
      "include_colab_link": true
    },
    "kernelspec": {
      "name": "python3",
      "display_name": "Python 3"
    },
    "language_info": {
      "name": "python"
    }
  },
  "cells": [
    {
      "cell_type": "markdown",
      "metadata": {
        "id": "view-in-github",
        "colab_type": "text"
      },
      "source": [
        "<a href=\"https://colab.research.google.com/github/maushamkumar/Hugging-Face/blob/main/ChatBot%20using%20open-source%20model.ipynb\" target=\"_parent\"><img src=\"https://colab.research.google.com/assets/colab-badge.svg\" alt=\"Open In Colab\"/></a>"
      ]
    },
    {
      "cell_type": "markdown",
      "source": [
        "# Natural Language Processing (NLP)\n",
        "\n",
        "- If you would like to run this code on your own machine, you can install the following:\n",
        "\n",
        "  !pip install transformers\n",
        "\n",
        "---\n",
        "\n",
        "## Build the `Chatbot` pipeline using 🤗 Transformers Library\n",
        "\n",
        "---\n",
        "\n"
      ],
      "metadata": {
        "id": "gjCRst5mb3jk"
      }
    },
    {
      "cell_type": "code",
      "source": [
        "from transformers import pipeline, Conversation"
      ],
      "metadata": {
        "id": "cIpc0uSKv1iP"
      },
      "execution_count": 19,
      "outputs": []
    },
    {
      "cell_type": "code",
      "source": [
        "chatbot = pipeline(\n",
        "    \"conversational\",\n",
        "    model=\"facebook/blenderbot-400M-distill\"\n",
        ")"
      ],
      "metadata": {
        "id": "6i1F_oy7v7G8"
      },
      "execution_count": 20,
      "outputs": []
    },
    {
      "cell_type": "code",
      "source": [
        "conversation = chatbot(\n",
        "    conversation,\n",
        "    max_new_tokens=60,     # allow longer replies\n",
        "    do_sample=True,        # use sampling instead of greedy decoding\n",
        "    temperature=0.9,       # add some creativity\n",
        "    top_p=0.95             # nucleus sampling\n",
        ")"
      ],
      "metadata": {
        "id": "HkP15AVZv_rW"
      },
      "execution_count": 21,
      "outputs": []
    },
    {
      "cell_type": "code",
      "source": [
        "conversation = Conversation(\"What are some fun activities I can do in Winter?\")"
      ],
      "metadata": {
        "id": "h9ylidJuwKsW"
      },
      "execution_count": null,
      "outputs": []
    },
    {
      "cell_type": "code",
      "source": [
        "print(conversation.messages)"
      ],
      "metadata": {
        "id": "6e1qRJ5LwEZb"
      },
      "execution_count": null,
      "outputs": []
    },
    {
      "cell_type": "code",
      "source": [
        "chatbot = pipeline(\n",
        "    \"conversational\",\n",
        "    model=\"facebook/blenderbot-400M-distill\"\n",
        ")\n",
        "\n"
      ],
      "metadata": {
        "colab": {
          "base_uri": "https://localhost:8080/"
        },
        "id": "Q007l_CDi1kS",
        "outputId": "ef4ba13b-3c09-46cd-ad06-843c1d7ad4ae"
      },
      "execution_count": 15,
      "outputs": [
        {
          "output_type": "stream",
          "name": "stdout",
          "text": [
            "[{'role': 'user', 'content': 'What are some fun activities I can do in Winter?'}, {'role': 'assistant', 'content': ' I like to go snowboarding in the winter. What do you like to do in winter?'}]\n"
          ]
        }
      ]
    },
    {
      "cell_type": "code",
      "source": [],
      "metadata": {
        "id": "VmPEglwiwGQ-"
      },
      "execution_count": null,
      "outputs": []
    },
    {
      "cell_type": "code",
      "source": [
        "conversation.add_message(\n",
        "    {\"role\": \"user\",\n",
        "     \"content\": \"\"\"\n",
        "What else do you recommend?\n",
        "\"\"\"\n",
        "    })"
      ],
      "metadata": {
        "id": "dHd4GjErjhd6"
      },
      "execution_count": 16,
      "outputs": []
    },
    {
      "cell_type": "code",
      "source": [
        "print(conversation)"
      ],
      "metadata": {
        "colab": {
          "base_uri": "https://localhost:8080/"
        },
        "id": "GovGCWRNvqaE",
        "outputId": "92d0bf36-8f10-43fa-fbbf-ecac8b8268ee"
      },
      "execution_count": 17,
      "outputs": [
        {
          "output_type": "stream",
          "name": "stdout",
          "text": [
            "Conversation id: 6e8a9464-102f-4bd3-b140-b41948370c71\n",
            "user: What are some fun activities I can do in Winter?\n",
            "assistant:  I like to go snowboarding in the winter. What do you like to do in winter?\n",
            "user: \n",
            "What else do you recommend?\n",
            "\n",
            "\n"
          ]
        }
      ]
    },
    {
      "cell_type": "code",
      "source": [
        "conversation = chatbot(conversation)\n",
        "\n",
        "print(conversation)"
      ],
      "metadata": {
        "colab": {
          "base_uri": "https://localhost:8080/"
        },
        "id": "_nFdIu0tvrBG",
        "outputId": "3d86e6bb-6a27-4281-cdb5-8f1e42409643"
      },
      "execution_count": 18,
      "outputs": [
        {
          "output_type": "stream",
          "name": "stdout",
          "text": [
            "Conversation id: 6e8a9464-102f-4bd3-b140-b41948370c71\n",
            "user: What are some fun activities I can do in Winter?\n",
            "assistant:  I like to go snowboarding in the winter. What do you like to do in winter?\n",
            "user: \n",
            "What else do you recommend?\n",
            "\n",
            "assistant:  Snowboarding, skiing, sledding, and skateboarding are some of my favorite winter activities.\n",
            "\n"
          ]
        }
      ]
    },
    {
      "cell_type": "code",
      "source": [],
      "metadata": {
        "id": "QXKVBHBxvten"
      },
      "execution_count": 18,
      "outputs": []
    }
  ]
}