{
  "nbformat": 4,
  "nbformat_minor": 0,
  "metadata": {
    "colab": {
      "provenance": [],
      "authorship_tag": "ABX9TyOBHb0PEp8BO9EDpuTn4eHR",
      "include_colab_link": true
    },
    "kernelspec": {
      "name": "python3",
      "display_name": "Python 3"
    },
    "language_info": {
      "name": "python"
    }
  },
  "cells": [
    {
      "cell_type": "markdown",
      "metadata": {
        "id": "view-in-github",
        "colab_type": "text"
      },
      "source": [
        "<a href=\"https://colab.research.google.com/github/maushamkumar/Hugging-Face/blob/main/Zero-Shot_Audio_Classification.ipynb\" target=\"_parent\"><img src=\"https://colab.research.google.com/assets/colab-badge.svg\" alt=\"Open In Colab\"/></a>"
      ]
    },
    {
      "cell_type": "markdown",
      "source": [
        "# Zero-Shot Audio Classification\n",
        "\n",
        "  !pip install transformers\n",
        "\n",
        "  !pip install datasets\n",
        "\n",
        "  !pip install soundfile\n",
        "\n",
        "  !pip install librosa\n",
        "  \n",
        "The librosa library may need to have ffmpeg installed.\n",
        "\n",
        "This page on librosa provides installation instructions for ffmpeg."
      ],
      "metadata": {
        "id": "5JSl3ytEUXaM"
      }
    },
    {
      "cell_type": "code",
      "source": [
        "!pip install transformers\n",
        "!pip install datasets\n",
        "!pip install soundfile\n",
        "!pip install librosa"
      ],
      "metadata": {
        "id": "yxwZgCqVUWvC"
      },
      "execution_count": null,
      "outputs": []
    },
    {
      "cell_type": "markdown",
      "source": [
        "- Here are some code that suppresses warning messages."
      ],
      "metadata": {
        "id": "wIVEYegAUrrP"
      }
    },
    {
      "cell_type": "code",
      "source": [
        "from transformers.utils import logging\n",
        "logging.set_verbosity_error()"
      ],
      "metadata": {
        "id": "NNtQQKN8UWp7"
      },
      "execution_count": null,
      "outputs": []
    },
    {
      "cell_type": "markdown",
      "source": [
        "# Prepare the dataset of audio recordings¶"
      ],
      "metadata": {
        "id": "pn5QTu77U5RQ"
      }
    },
    {
      "cell_type": "code",
      "execution_count": null,
      "metadata": {
        "id": "WA3PSYS0USEq"
      },
      "outputs": [],
      "source": [
        "from datasets import load_dataset, load_from_disk\n",
        "\n",
        "# This dataset is a collection of different sounds of 5 seconds\n",
        "# dataset = load_dataset(\"ashraq/esc50\",\n",
        "#                       split=\"train[0:10]\")\n",
        "dataset = load_from_disk(\"ashraq/esc50\")"
      ]
    },
    {
      "cell_type": "code",
      "source": [
        "audio_sample = dataset[0]"
      ],
      "metadata": {
        "id": "yPryeZmzVLTo"
      },
      "execution_count": null,
      "outputs": []
    },
    {
      "cell_type": "code",
      "source": [
        "audio_sample"
      ],
      "metadata": {
        "id": "VuCioh6EVMqs"
      },
      "execution_count": null,
      "outputs": []
    },
    {
      "cell_type": "code",
      "source": [
        "from IPython.display import Audio as IPythonAudio\n",
        "IPythonAudio(audio_sample[\"audio\"][\"array\"],\n",
        "             rate=audio_sample[\"audio\"][\"sampling_rate\"])"
      ],
      "metadata": {
        "id": "wiNSNZwRVOH5"
      },
      "execution_count": null,
      "outputs": []
    },
    {
      "cell_type": "markdown",
      "source": [
        "# Build the audio classification pipeline using 🤗 Transformers Library"
      ],
      "metadata": {
        "id": "M_PEDW-AVh4o"
      }
    },
    {
      "cell_type": "code",
      "source": [
        "from transformers import pipeline"
      ],
      "metadata": {
        "id": "uMQGrv9tVhnD"
      },
      "execution_count": null,
      "outputs": []
    },
    {
      "cell_type": "code",
      "source": [
        "zero_shot_classifier = pipeline(\n",
        "    task=\"zero-shot-audio-classification\",\n",
        "    model=\"laion/clap-htsat-unfused\")"
      ],
      "metadata": {
        "id": "nz9QFfH0Vkv0"
      },
      "execution_count": null,
      "outputs": []
    },
    {
      "cell_type": "markdown",
      "source": [
        "# Sampling Rate for Transformer Models\n",
        "- How long does 1 second of high resolution audio (192,000 Hz) appear to the Whisper model (which is train to expect audio file at 16,000Hz)?"
      ],
      "metadata": {
        "id": "qaKRRBeeV3uR"
      }
    },
    {
      "cell_type": "code",
      "source": [
        "(1 * 192000) / 16000"
      ],
      "metadata": {
        "colab": {
          "base_uri": "https://localhost:8080/"
        },
        "id": "TEPTfQT7We3U",
        "outputId": "0857308f-4d9c-4467-9f8d-cb080b953432"
      },
      "execution_count": 1,
      "outputs": [
        {
          "output_type": "execute_result",
          "data": {
            "text/plain": [
              "12.0"
            ]
          },
          "metadata": {},
          "execution_count": 1
        }
      ]
    },
    {
      "cell_type": "markdown",
      "source": [
        "- The one second of high resolution audio appear to the model as if it is 12 second of audio"
      ],
      "metadata": {
        "id": "NdCE4pj5WjV9"
      }
    },
    {
      "cell_type": "markdown",
      "source": [
        "- How about 5 sec on audio"
      ],
      "metadata": {
        "id": "kuuI9V0NW4dH"
      }
    },
    {
      "cell_type": "code",
      "source": [
        "(5 * 192000) / 16000"
      ],
      "metadata": {
        "colab": {
          "base_uri": "https://localhost:8080/"
        },
        "id": "Xg6s4t2_Wip-",
        "outputId": "adef2afa-ec5e-4df5-f7a2-77f68548ded8"
      },
      "execution_count": 2,
      "outputs": [
        {
          "output_type": "execute_result",
          "data": {
            "text/plain": [
              "60.0"
            ]
          },
          "metadata": {},
          "execution_count": 2
        }
      ]
    },
    {
      "cell_type": "markdown",
      "source": [
        "- 5 seconds of high resolution audio appears to the model as if it is 60 seconds of audio."
      ],
      "metadata": {
        "id": "YmHEFnKQXAS9"
      }
    },
    {
      "cell_type": "code",
      "source": [
        "zero_shot_classifier.feature_extractor.sampling_rate"
      ],
      "metadata": {
        "id": "TpgG0v9eW9wR"
      },
      "execution_count": null,
      "outputs": []
    },
    {
      "cell_type": "code",
      "source": [
        "audio_sample[\"audio\"][\"sampling_rate\"]"
      ],
      "metadata": {
        "id": "U6A14IO6XGYU"
      },
      "execution_count": null,
      "outputs": []
    },
    {
      "cell_type": "markdown",
      "source": [
        "- Set the correct sampling rate for the input and the model."
      ],
      "metadata": {
        "id": "Fl3ZMeMXXJkL"
      }
    },
    {
      "cell_type": "code",
      "source": [
        "from datasets import Audio"
      ],
      "metadata": {
        "id": "CFf6YkHYXKSj"
      },
      "execution_count": null,
      "outputs": []
    },
    {
      "cell_type": "code",
      "source": [
        "dataset = dataset.cast_column(\n",
        "    \"audio\",\n",
        "     Audio(sampling_rate=48_000))"
      ],
      "metadata": {
        "id": "1ucTzApBXN-j"
      },
      "execution_count": null,
      "outputs": []
    },
    {
      "cell_type": "code",
      "source": [
        "audio_sample = dataset[0]"
      ],
      "metadata": {
        "id": "fSldw1pMXPv_"
      },
      "execution_count": null,
      "outputs": []
    },
    {
      "cell_type": "code",
      "source": [
        "audio_sample"
      ],
      "metadata": {
        "id": "AnN1xjy2XSIi"
      },
      "execution_count": null,
      "outputs": []
    },
    {
      "cell_type": "code",
      "source": [
        "candidate_labels = [\"Sound of a dog\",\n",
        "                    \"Sound of vacuum cleaner\"]"
      ],
      "metadata": {
        "id": "zLZbza5IXTtu"
      },
      "execution_count": null,
      "outputs": []
    },
    {
      "cell_type": "code",
      "source": [
        "zero_shot_classifier(audio_sample[\"audio\"][\"array\"],\n",
        "                     candidate_labels=candidate_labels)"
      ],
      "metadata": {
        "id": "QbqgLVyLXU-x"
      },
      "execution_count": null,
      "outputs": []
    },
    {
      "cell_type": "code",
      "source": [
        "candidate_labels = [\"Sound of a child crying\",\n",
        "                    \"Sound of vacuum cleaner\",\n",
        "                    \"Sound of a bird singing\",\n",
        "                    \"Sound of an airplane\"]"
      ],
      "metadata": {
        "id": "e1bBr6M2XXg8"
      },
      "execution_count": null,
      "outputs": []
    },
    {
      "cell_type": "code",
      "source": [
        "zero_shot_classifier(audio_sample[\"audio\"][\"array\"],\n",
        "                     candidate_labels=candidate_labels)"
      ],
      "metadata": {
        "id": "pqh5wSuFXZY3"
      },
      "execution_count": null,
      "outputs": []
    }
  ]
}